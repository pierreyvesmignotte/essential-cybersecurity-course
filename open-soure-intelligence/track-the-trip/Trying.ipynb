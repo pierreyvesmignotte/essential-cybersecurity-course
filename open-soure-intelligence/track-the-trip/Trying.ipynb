{
 "cells": [
  {
   "cell_type": "code",
   "execution_count": 1,
   "id": "440a484a",
   "metadata": {},
   "outputs": [],
   "source": [
    "# We are looking for the latlongs two pictures.\n",
    "\n",
    "def get_decimal_degrees(degrees, minutes, seconds):\n",
    "    \"\"\"Convert DMS to DD\"\"\"\n",
    "    return degrees+minutes/60.+seconds/3600.\n"
   ]
  },
  {
   "cell_type": "code",
   "execution_count": 2,
   "id": "bc464a47",
   "metadata": {},
   "outputs": [
    {
     "data": {
      "text/plain": [
       "5.156013888888889"
      ]
     },
     "execution_count": 2,
     "metadata": {},
     "output_type": "execute_result"
    }
   ],
   "source": [
    "\n",
    "get_decimal_degrees(5,9,21.65)"
   ]
  },
  {
   "cell_type": "code",
   "execution_count": 3,
   "id": "e1a56d77",
   "metadata": {},
   "outputs": [
    {
     "data": {
      "text/plain": [
       "56.6781"
      ]
     },
     "execution_count": 3,
     "metadata": {},
     "output_type": "execute_result"
    }
   ],
   "source": [
    "get_decimal_degrees(56, 40, 41.16)"
   ]
  },
  {
   "cell_type": "code",
   "execution_count": null,
   "id": "ae210dd4",
   "metadata": {},
   "outputs": [],
   "source": [
    "print()"
   ]
  }
 ],
 "metadata": {
  "kernelspec": {
   "display_name": "Python 3 (ipykernel)",
   "language": "python",
   "name": "python3"
  },
  "language_info": {
   "codemirror_mode": {
    "name": "ipython",
    "version": 3
   },
   "file_extension": ".py",
   "mimetype": "text/x-python",
   "name": "python",
   "nbconvert_exporter": "python",
   "pygments_lexer": "ipython3",
   "version": "3.8.10"
  }
 },
 "nbformat": 4,
 "nbformat_minor": 5
}
